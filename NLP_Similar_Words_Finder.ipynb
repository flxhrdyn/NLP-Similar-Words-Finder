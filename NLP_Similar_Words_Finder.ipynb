{
  "nbformat": 4,
  "nbformat_minor": 0,
  "metadata": {
    "colab": {
      "provenance": [],
      "include_colab_link": true
    },
    "kernelspec": {
      "name": "python3",
      "display_name": "Python 3"
    },
    "language_info": {
      "name": "python"
    }
  },
  "cells": [
    {
      "cell_type": "markdown",
      "metadata": {
        "id": "view-in-github",
        "colab_type": "text"
      },
      "source": [
        "<a href=\"https://colab.research.google.com/github/flxhrdyn/NLP-Similar-Words-Finder/blob/main/NLP_Similar_Words_Finder.ipynb\" target=\"_parent\"><img src=\"https://colab.research.google.com/assets/colab-badge.svg\" alt=\"Open In Colab\"/></a>"
      ]
    },
    {
      "cell_type": "markdown",
      "source": [
        "# SIMILAR WORDS FINDER\n",
        "## A simple program to find word similarity using Natural language Processing"
      ],
      "metadata": {
        "id": "mxY2C7rPIcIr"
      }
    },
    {
      "cell_type": "markdown",
      "source": [
        "## 1. Library Import"
      ],
      "metadata": {
        "id": "GnfSY50v86hU"
      }
    },
    {
      "cell_type": "code",
      "execution_count": 11,
      "metadata": {
        "id": "y_oj5PPc5mEa"
      },
      "outputs": [],
      "source": [
        "import bs4 as bs  # Import BeautifulSoup library as bs\n",
        "import nltk  # Import nltk (Natural Language Toolkit) library for natural language processing\n",
        "import urllib.request  # Import urllib.request library to access URLs\n",
        "import re  # Import re (regular expressions) library for text processing\n",
        "import lxml  # Import lxml library for HTML parsing\n",
        "import string  # Import String\n",
        "from nltk.corpus import stopwords  # Import Stopwords\n",
        "from gensim.models import Word2Vec  # Import Word2Vec class from gensim.model"
      ]
    },
    {
      "cell_type": "markdown",
      "source": [
        "## 2. Web Scraping"
      ],
      "metadata": {
        "id": "7mglPu-F9AIs"
      }
    },
    {
      "cell_type": "code",
      "source": [
        "# Accessing the URL to be scraped\n",
        "web_scraping = urllib.request.urlopen(input(\"Please input the URL you want to scrape: \"))\n",
        "\n",
        "# Reading the content of the downloaded web page\n",
        "content = web_scraping.read()\n",
        "\n",
        "# Using BeautifulSoup to parse HTML content with the lxml parser\n",
        "parsing = bs.BeautifulSoup(content, 'lxml')\n",
        "\n",
        "# Finding all <p> (paragraph) elements in the parsed HTML\n",
        "paragraphs = parsing.find_all('p')\n",
        "\n",
        "# Creating an empty string to store the article text\n",
        "article_text = \"\"\n",
        "for p in paragraphs:  # Extracting text from each paragraph and concatenating it into article_text\n",
        "    article_text += p.text\n"
      ],
      "metadata": {
        "colab": {
          "base_uri": "https://localhost:8080/"
        },
        "id": "6NLIxUrQ6Hns",
        "outputId": "8e25e0fc-8b46-40ed-f6a3-52ba735c1c5f"
      },
      "execution_count": 12,
      "outputs": [
        {
          "name": "stdout",
          "output_type": "stream",
          "text": [
            "Please input the URL you want to scrape: https://en.wikipedia.org/wiki/Formula_One\n"
          ]
        }
      ]
    },
    {
      "cell_type": "code",
      "source": [
        "# Print the article text\n",
        "# print(\"This is the text arcticle:\\n\")\n",
        "# article_text"
      ],
      "metadata": {
        "id": "TQQsICvH8DuC"
      },
      "execution_count": 13,
      "outputs": []
    },
    {
      "cell_type": "markdown",
      "source": [
        "## 3. Removing Punctuation"
      ],
      "metadata": {
        "id": "BODBC09g9It3"
      }
    },
    {
      "cell_type": "code",
      "source": [
        "# Class for raw text\n",
        "class RawText(object):\n",
        "    def __init__(self):\n",
        "        pass\n",
        "\n",
        "    # Private function to remove punctuation from the text\n",
        "    def __remove_punctuation(self, text):\n",
        "        message = [char for char in text if char not in string.punctuation]\n",
        "        return ''.join(message)\n",
        "\n",
        "    # Private function to remove stopwords from the text\n",
        "    def __remove_stopwords(self, text):\n",
        "        words = [word for word in text.split() if word.lower() not in stopwords.words('english')]\n",
        "        return words\n",
        "\n",
        "    # Public function to remove punctuation and stopwords from the text and return a list of remaining words\n",
        "    def token_words(self, text=''):\n",
        "        message = self.__remove_punctuation(text)\n",
        "        words = self.__remove_stopwords(message)\n",
        "        return words\n"
      ],
      "metadata": {
        "id": "6FFdkASo9Q7i"
      },
      "execution_count": 14,
      "outputs": []
    },
    {
      "cell_type": "code",
      "source": [
        "# Print the words after we removed the stopwords and punctuation\n",
        "# print(\"The words after we removed the stopwords and punctuation:\\n\")\n",
        "# words"
      ],
      "metadata": {
        "id": "4plp4jKsCV9S"
      },
      "execution_count": 15,
      "outputs": []
    },
    {
      "cell_type": "code",
      "source": [
        "# download the \"stopwords\" dataset from nltk\n",
        "flag = nltk.download(\"stopwords\")\n",
        "\n",
        "# Checking whether the download is successful or failed\n",
        "if not flag:\n",
        "    print(\"Download Failed!\") # Display the string if the download is failed display\n",
        "else:\n",
        "    print(\"Download Success!\")\n",
        "    # If the download is successful, create an object from the RawText class\n",
        "    helper = RawText()\n",
        "\n",
        "    # Using the object to process the text (in this case, article text)\n",
        "    words = helper.token_words(text=article_text)\n",
        "\n",
        "# The result will be a list of processed words (without punctuation and stopwords)."
      ],
      "metadata": {
        "colab": {
          "base_uri": "https://localhost:8080/"
        },
        "id": "DG-rpOcc-t-A",
        "outputId": "548dc1ac-2385-4351-e57f-ece15f4758aa"
      },
      "execution_count": 16,
      "outputs": [
        {
          "output_type": "stream",
          "name": "stderr",
          "text": [
            "[nltk_data] Downloading package stopwords to /root/nltk_data...\n",
            "[nltk_data]   Package stopwords is already up-to-date!\n"
          ]
        },
        {
          "output_type": "stream",
          "name": "stdout",
          "text": [
            "Download Success!\n"
          ]
        }
      ]
    },
    {
      "cell_type": "markdown",
      "source": [
        "## 4. Model Training"
      ],
      "metadata": {
        "id": "O6u1qEzaAme4"
      }
    },
    {
      "cell_type": "code",
      "source": [
        "# Creating a Word2Vec model with customized parameters\n",
        "\n",
        "# model = Word2Vec([words], min_count=1)\n",
        "model = Word2Vec([words], vector_size=100, window=10, min_count=10, workers=4)\n",
        "\n",
        "# vector_size=100: The size of the word representation vectors is 100\n",
        "# window=10: The desired number of words to be shown in the output is 10\n",
        "# min_count=10: Words with a frequency of at least 10 occurrences will be included in the model\n",
        "# workers=4: Using 4 CPU cores for model training"
      ],
      "metadata": {
        "id": "gy8HH0JmAtcB"
      },
      "execution_count": 17,
      "outputs": []
    },
    {
      "cell_type": "code",
      "source": [
        "# Getting the list of words in the vocabulary of the Word2Vec model\n",
        "vocabulary = list(model.wv.key_to_index.keys())"
      ],
      "metadata": {
        "id": "d4GhsT9pBIfj"
      },
      "execution_count": 18,
      "outputs": []
    },
    {
      "cell_type": "markdown",
      "source": [
        "## 5. Output"
      ],
      "metadata": {
        "id": "uQUCGwuuBkGf"
      }
    },
    {
      "cell_type": "code",
      "source": [
        "# Finding words that are most similar and related in the Word2Vec model\n",
        "similar_words = model.wv.most_similar(input(\"What word do you want to find the similarity?: \"))\n",
        "# The result of this statement is stored in the variable similar_words,\n",
        "# which will contain a list of words most similar to the input word along with their similarity scores.\n",
        "\n",
        "# Converting similarity scores to a percentage scale (0-100)\n",
        "similar_words_percentage = [(word, (score + 1) * 50) for word, score in similar_words]\n",
        "\n",
        "# Displaying the list of similar and related words for the requested word\n",
        "for word, similarity_percentage in similar_words_percentage:\n",
        "    print(f\"'{word}': {similarity_percentage:.2f}% Similarity\")\n"
      ],
      "metadata": {
        "colab": {
          "base_uri": "https://localhost:8080/"
        },
        "id": "IOI8jjJuBJSz",
        "outputId": "f61a20c9-bbd4-403d-b3ab-e0fa34c93550"
      },
      "execution_count": 19,
      "outputs": [
        {
          "output_type": "stream",
          "name": "stdout",
          "text": [
            "What word do you want to find the similarity?: Formula\n",
            "'drivers': 99.95% Similarity\n",
            "'One': 99.95% Similarity\n",
            "'World': 99.95% Similarity\n",
            "'team': 99.95% Similarity\n",
            "'race': 99.94% Similarity\n",
            "'championship': 99.94% Similarity\n",
            "'cars': 99.94% Similarity\n",
            "'races': 99.93% Similarity\n",
            "'season': 99.93% Similarity\n",
            "'car': 99.93% Similarity\n"
          ]
        }
      ]
    }
  ]
}